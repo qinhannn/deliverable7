{
 "cells": [
  {
   "cell_type": "code",
   "execution_count": 20,
   "id": "a8865b9c",
   "metadata": {},
   "outputs": [],
   "source": [
    "import numpy as np\n",
    "import pandas as pd"
   ]
  },
  {
   "cell_type": "code",
   "execution_count": 21,
   "id": "ef46e123",
   "metadata": {},
   "outputs": [],
   "source": [
    "# define method 1\n",
    "def method_1(input):\n",
    "    out = []\n",
    "    for i in range(input):\n",
    "        out.append(np.random.randint(10,50))\n",
    "    return out\n",
    "\n",
    "# define method 2\n",
    "def method_2(a):\n",
    "    sum = 0\n",
    "    for i in a:\n",
    "        sum += i\n",
    "    return sum"
   ]
  },
  {
   "cell_type": "code",
   "execution_count": 25,
   "id": "cf46ddd0",
   "metadata": {},
   "outputs": [
    {
     "name": "stdout",
     "output_type": "stream",
     "text": [
      "Enter an integer: 14\n",
      "The elements of the arrays are:  [15, 47, 35, 14, 23, 14, 15, 12, 45, 17, 16, 25, 36, 36]\n",
      "The sum is:  350\n"
     ]
    }
   ],
   "source": [
    "# Indefinite loop until proper entry\n",
    "while True:\n",
    "    #1. Ask user to enter an integer number between 5 and 15\n",
    "    n = int(input(\"Enter an integer: \")) \n",
    "    if n >= 5 and n <= 15: #2. check entry value\n",
    "        break\n",
    "    else:\n",
    "        print(\"Please re-enter a proper integer between 5 and 15.\")\n",
    "#3. Use Method 1\n",
    "random = method_1(n)\n",
    "#4. Display all elements\n",
    "print(\"The elements of the arrays are: \",random)\n",
    "#5. Use Method 2 \n",
    "sum = method_2(random)\n",
    "#6 Display sum value\n",
    "print(\"The sum is: \",sum)"
   ]
  }
 ],
 "metadata": {
  "kernelspec": {
   "display_name": "Python 3 (ipykernel)",
   "language": "python",
   "name": "python3"
  },
  "language_info": {
   "codemirror_mode": {
    "name": "ipython",
    "version": 3
   },
   "file_extension": ".py",
   "mimetype": "text/x-python",
   "name": "python",
   "nbconvert_exporter": "python",
   "pygments_lexer": "ipython3",
   "version": "3.9.7"
  }
 },
 "nbformat": 4,
 "nbformat_minor": 5
}
